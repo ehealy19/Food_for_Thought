{
 "cells": [
  {
   "cell_type": "markdown",
   "metadata": {},
   "source": [
    "---\n",
    "title: \"Data Collection\"\n",
    "format:\n",
    "    html: \n",
    "        code-fold: false\n",
    "---"
   ]
  },
  {
   "cell_type": "markdown",
   "metadata": {},
   "source": [
    "### Introduction \n",
    "\n",
    "The first step in any project is to collect data. The idea for this project stemmed from restaurants. The constant question of where to eat, what food is good, and what neighborhood has the best food are all questions people ask daily. The one place everyone goes to determine where they should eat is Yelp. Here, we will be collecting data from Yelp, just like what you would see on your phone. These features will hopefully help us dig deeper into our story."
   ]
  },
  {
   "cell_type": "markdown",
   "metadata": {},
   "source": [
    "\n",
    "\n",
    "The first step is to create and load our API key from Yelp. For security reasons, this key is stored elsewhere and is not directly included here. To create your own API, go to the Yelp's developer portal to get started. "
   ]
  },
  {
   "cell_type": "code",
   "execution_count": 1,
   "metadata": {},
   "outputs": [],
   "source": [
    "#this imports the api to scrap\n",
    "# import json package \n",
    "import json\n",
    "#opens and finds the api to load it \n",
    "with open('/Users/rachnarawalpally/project-rachnarawalpally/technical-details/data-collection/api-key.json') as f:\n",
    "    keys = json.load(f)\n",
    "    #labels the api to call it in the code \n",
    "API_KEY = keys['yelp']"
   ]
  },
  {
   "cell_type": "markdown",
   "metadata": {},
   "source": [
    "### Method: Obtaining Data \n",
    "\n",
    "The following code blocks outline the process of fetching data from the Yelp API and cleaning it into a readable CSV file.\n",
    "\n",
    "The first block includes the necessary documentation to call the Yelp API and retrieve data. Some of this code is sourced directly from Yelp's developer website. https://docs.developer.yelp.com/docs/fusion-intro - Here is the link to getting started using a API from Yelp. \n",
    "\n",
    "The second block processes the received data by extracting only the relevant information needed for the CSV file. This includes gathering key details that are readily available on Yelp, such as restaurant name, rating, and location. The extracted data is then stored in a Pandas DataFrame.\n",
    "\n",
    "The final block converts the Pandas DataFrame into a CSV file. Since each API response contains information for up to 50 restaurants, each CSV file includes data for a maximum of 50 Yelp rated restaurants.\n",
    "\n"
   ]
  },
  {
   "cell_type": "code",
   "execution_count": 14,
   "metadata": {},
   "outputs": [],
   "source": [
    "#reads in the request pacakge \n",
    "import requests\n",
    "# this sets up the API request \n",
    "headers = {'Authorization': f'Bearer {API_KEY}'}\n",
    "# this function fetches restaurant's data from Yelp's API\n",
    "# location = which area to search for \n",
    "# term = picks between restuarants, coffee shops, or bars (tried to get as much information about yelp reivews in DC)\n",
    "# limit and offset = these are specific for yelp, limit to search for 50 restaurants at a time\n",
    "# and start the offset at 0 so it goes to the next restaurant, like going to the next page \n",
    "def fetch_restaurant_data(location, term=\"restaurants\", limit=50, offset=0):\n",
    "    url = 'https://api.yelp.com/v3/businesses/search'\n",
    "    params = {\n",
    "        'term': term,\n",
    "        'location': location,\n",
    "        'limit': limit,\n",
    "        'offset': offset,  # Include offset in the params\n",
    "    }\n",
    "    response = requests.get(url, headers=headers, params=params)\n",
    "    data = response.json()\n",
    "    return data\n",
    "\n",
    "offset = 0  # Start from 50 for the next set of results\n",
    "limit = 50   # You want to get 50 results at a time\n",
    "\n",
    "# Fetch data for restaurants in Washington D.C.\n",
    "restaurants = fetch_restaurant_data('Washington D.C.', offset=offset, limit=limit)"
   ]
  },
  {
   "cell_type": "code",
   "execution_count": 15,
   "metadata": {},
   "outputs": [
    {
     "name": "stdout",
     "output_type": "stream",
     "text": [
      "                   name             cuisine price_range  rating  review_count  \\\n",
      "0  Unconventional Diner        New American          $$     4.4          2946   \n",
      "1             L'Ardente             Italian         $$$     4.5          1242   \n",
      "2          Grazie Nonna             Italian          $$     4.1           536   \n",
      "3      Old Ebbitt Grill                Bars          $$     4.2         11086   \n",
      "4      Gypsy Kitchen DC  Tapas/Small Plates          $$     4.3           919   \n",
      "\n",
      "  neighborhoods   latitude  longitude zip_code  \n",
      "0           N/A  38.906139 -77.023800    20001  \n",
      "1           N/A  38.898919 -77.014074    20001  \n",
      "2           N/A  38.904010 -77.035000    20005  \n",
      "3           N/A  38.897967 -77.033342    20005  \n",
      "4           N/A  38.914880 -77.031550    20009  \n"
     ]
    }
   ],
   "source": [
    "# import package \n",
    "import pandas as pd\n",
    "# this creates the function to clean up the json requests from above and clean it up and have it as a pandas dataframe \n",
    "def process_data(restaurants_data):\n",
    "    # creates an emtpy list to store the data in \n",
    "    restaurant_list = []\n",
    "    for business in restaurants_data['businesses']:\n",
    "        # this adds all these specific items together \n",
    "        restaurant_list.append({\n",
    "            'name': business['name'],\n",
    "            'cuisine': business['categories'][0]['title'] if business['categories'] else 'Unknown',\n",
    "            'price_range': business.get('price', 'N/A'),\n",
    "            'rating': business.get('rating', 'N/A'),\n",
    "            'review_count': business.get('review_count','N/A'),\n",
    "            'neighborhoods': business.get('neighborhoods', 'N/A'),\n",
    "            'latitude': business['coordinates']['latitude'],\n",
    "            'longitude': business['coordinates']['longitude'],\n",
    "            'zip_code': business['location']['zip_code'],\n",
    "        })\n",
    "        #saves it as a dataframe \n",
    "    df = pd.DataFrame(restaurant_list)\n",
    "    return df\n",
    "# takes the function above to create a dataframe from the json information above \n",
    "df_restaurants = process_data(restaurants)\n",
    "# prints the first few results to insure everything looks good \n",
    "print(df_restaurants.head())\n"
   ]
  },
  {
   "cell_type": "code",
   "execution_count": 230,
   "metadata": {},
   "outputs": [
    {
     "name": "stdout",
     "output_type": "stream",
     "text": [
      "                                   name                cuisine price_range  \\\n",
      "0               Pitango Gelato & Coffee           Coffee & Tea          $$   \n",
      "1                      Capital One Café           Coffee & Tea         N/A   \n",
      "2                    Mah-Ze-Dahr Bakery               Bakeries          $$   \n",
      "3        Junction Bistro Bar and Bakery               Bakeries          $$   \n",
      "4                          Coffee Alley           Coffee & Tea         N/A   \n",
      "5                       Gregorys Coffee               Bakeries          $$   \n",
      "6                           Atrium Cafe                  Cafes           $   \n",
      "7                         Mitsitam Cafe               American          $$   \n",
      "8                        Cafe Levantine               Lebanese         N/A   \n",
      "9                      Capital One Café  Banks & Credit Unions         N/A   \n",
      "10                               Zeleno             Sandwiches          $$   \n",
      "11                        Le Caprice DC                  Cafes           $   \n",
      "12                        Union Kitchen           Coffee & Tea          $$   \n",
      "13                       Bluestone Lane           Coffee & Tea         N/A   \n",
      "14              Corella Café and Lounge           Coffee & Tea          $$   \n",
      "15          Casey's Coffee & Sandwiches           Coffee & Tea          $$   \n",
      "16                Union Kitchen Grocery           Coffee & Tea          $$   \n",
      "17     L.A. Burdick Handmade Chocolates   Chocolatiers & Shops         N/A   \n",
      "18            Point Chaud Cafe & Crepes              Creperies          $$   \n",
      "19                     Vigilante Coffee           Coffee & Tea          $$   \n",
      "20                       Three Whistles   Shared Office Spaces           $   \n",
      "21           Adulis Coffee and Roastery           Coffee & Tea         N/A   \n",
      "22                          Timgad Café                  Cafes         N/A   \n",
      "23                         Café du Parc                 French          $$   \n",
      "24                             Morsel's           Coffee & Tea         $$$   \n",
      "25                           Sheba Café                  Cafes         N/A   \n",
      "26                           Licht Cafe                  Cafes         N/A   \n",
      "27                         Blank Street           Coffee & Tea         N/A   \n",
      "28                          Colada Shop           Coffee & Tea          $$   \n",
      "29                     Commonwealth Joe                  Cafes           $   \n",
      "30                          Uptown Cafe           Coffee & Tea           $   \n",
      "31                       Morning My Day               Bakeries           $   \n",
      "32                        Caseys Coffee           Coffee & Tea         N/A   \n",
      "33                    Merriweather Cafe                  Cafes         N/A   \n",
      "34                Soricha Tea & Theater           Coffee & Tea          $$   \n",
      "35                        Peet's Coffee           Coffee & Tea          $$   \n",
      "36                    La Bohemia Bakery               Bakeries           $   \n",
      "37                    Milk + Honey Café           Coffee & Tea         N/A   \n",
      "38                     Baker’s Daughter     Breakfast & Brunch         N/A   \n",
      "39                  Turkish Coffee Lady           Coffee & Tea          $$   \n",
      "40                         Cortado Cafe                  Cafes          $$   \n",
      "41  Tiger Sugar Boba Bubble Tea shop DC             Bubble Tea          $$   \n",
      "42   Call Your Mother Deli - Georgetown                  Delis          $$   \n",
      "43                        Cafe Integral           Coffee & Tea          $$   \n",
      "44                         Black Coffee           Coffee & Tea          $$   \n",
      "45                        Coffee Nature           Coffee & Tea           $   \n",
      "46                    Bread & Chocolate     Breakfast & Brunch          $$   \n",
      "47                          Le Bon Cafe           Coffee & Tea          $$   \n",
      "48                         Mo Mo Bakery               Bakeries           $   \n",
      "49                        The Hill Cafe           Coffee & Tea         N/A   \n",
      "\n",
      "    rating  review_count neighborhoods   latitude  longitude zip_code  \n",
      "0      4.2          1040           N/A  38.895058 -77.021854    20004  \n",
      "1      4.3            24           N/A  38.867232 -76.988468    20020  \n",
      "2      4.3           137           N/A  38.858644 -77.049471    22202  \n",
      "3      4.2            95           N/A  38.894935 -77.002259    20002  \n",
      "4      4.0             1           N/A  38.898571 -77.021774    20001  \n",
      "5      3.8            87           N/A  38.876988 -77.004496    20003  \n",
      "6      3.8           106           N/A  38.884277 -77.018194    20024  \n",
      "7      3.5           538           N/A  38.888184 -77.016863    20560  \n",
      "8      4.7            29           N/A  38.935452 -77.179605    22101  \n",
      "9      4.0            63           N/A  38.904992 -77.062633    20007  \n",
      "10     4.3            95           N/A  38.911483 -77.044128    20009  \n",
      "11     3.5           349           N/A  38.932815 -77.032744    20010  \n",
      "12     4.1            95           N/A  38.906762 -77.023699    20001  \n",
      "13     3.3            25           N/A  38.894308 -77.029739    20004  \n",
      "14     3.9            39           N/A  38.983660 -77.092950    20814  \n",
      "15     2.9            25           N/A  38.883440 -77.016027    20024  \n",
      "16     4.1            16           N/A  38.912090 -77.003690    20002  \n",
      "17     4.3            89           N/A  38.907180 -77.063050    20007  \n",
      "18     3.7            57           N/A  38.920154 -77.071873    20007  \n",
      "19     4.3           199           N/A  38.992035 -76.933845    20740  \n",
      "20     4.4           110           N/A  38.889560 -77.091200    22201  \n",
      "21     4.6             7           N/A  38.985367 -77.027355    20910  \n",
      "22     0.0             0           N/A  38.897080 -77.010790    20001  \n",
      "23     3.4           496           N/A  38.896491 -77.032656    20004  \n",
      "24     3.0             3           N/A  38.922855 -77.053824    20008  \n",
      "25     4.6             8           N/A  38.934610 -77.033200    20010  \n",
      "26     4.9            11           N/A  38.916837 -77.035461    20009  \n",
      "27     3.4            18           N/A  38.906160 -77.063010    20007  \n",
      "28     4.0            68           N/A  38.907064 -77.043662    20036  \n",
      "29     4.6           471           N/A  38.862669 -77.054934    22202  \n",
      "30     3.6            83           N/A  38.905458 -77.005096    20002  \n",
      "31     4.8            27           N/A  38.998113 -77.031311    20910  \n",
      "32     3.5            10           N/A  38.899840 -77.007540    20002  \n",
      "33     3.8            12           N/A  38.943640 -77.052620    20008  \n",
      "34     4.6           469           N/A  38.833030 -77.191437    22003  \n",
      "35     3.8           108           N/A  38.899230 -77.039980    20006  \n",
      "36     4.3           258           N/A  39.057995 -77.112355    20852  \n",
      "37     3.2             9           N/A  38.884751 -77.017456    20472  \n",
      "38     3.6            23           N/A  38.904533 -77.062452    20007  \n",
      "39     4.6           187           N/A  38.805617 -77.050411    22314  \n",
      "40     4.6           116           N/A  38.813170 -77.111088    22304  \n",
      "41     3.9            23           N/A  38.922077 -76.996569    20002  \n",
      "42     4.4           382           N/A  38.907617 -77.068837    20007  \n",
      "43     3.7            23           N/A  38.916040 -77.046870    20009  \n",
      "44     4.1           106           N/A  38.917900 -77.096820    20007  \n",
      "45     4.2           159           N/A  38.954480 -77.083120    20016  \n",
      "46     3.3           399           N/A  38.905660 -77.050450    20037  \n",
      "47     3.7           235           N/A  38.887260 -77.003357    20003  \n",
      "48     3.9            16           N/A  39.052131 -77.051026    20902  \n",
      "49     4.3            56           N/A  38.891074 -76.983391    20002  \n"
     ]
    }
   ],
   "source": [
    "# print the results again to insure everything is correct \n",
    "#print(df_restaurants)\n",
    "#saves the data frame to a csv file int he raw_data folder\n",
    "df_restaurants.to_csv('../../data/raw-data/df_coffee5.csv')\n",
    "#/Users/rachnarawalpally/project-rachnarawalpally/data/raw-data\n"
   ]
  },
  {
   "cell_type": "markdown",
   "metadata": {},
   "source": [
    "### Final Thoughts \n",
    "\n",
    "This code demonstrates how to retrieve data from Yelp's API to gather information on businesses such as restaurants, coffee shops, and bars (as used in this project). The script can be easily modified to query any other types of businesses available on Yelp. It provides a simple and efficient way to. Fetch Yelp data based on specific parameters. Convert the raw JSON response into a pandas DataFrame. Save the DataFrame as a CSV file for later analysis. By altering the search term (e.g., \"restaurants\", \"coffee shops\", or \"bars\") and adjusting other parameters like limit and offset, you can customize the data retrieval to suit your needs. This method simplifies the process of gathering Yelp data for analysis and ensures easy access to relevant business information."
   ]
  }
 ],
 "metadata": {
  "kernelspec": {
   "display_name": "base",
   "language": "python",
   "name": "python3"
  },
  "language_info": {
   "codemirror_mode": {
    "name": "ipython",
    "version": 3
   },
   "file_extension": ".py",
   "mimetype": "text/x-python",
   "name": "python",
   "nbconvert_exporter": "python",
   "pygments_lexer": "ipython3",
   "version": "3.11.7"
  }
 },
 "nbformat": 4,
 "nbformat_minor": 2
}
